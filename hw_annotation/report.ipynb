{
 "cells": [
  {
   "cell_type": "code",
   "execution_count": 78,
   "metadata": {},
   "outputs": [],
   "source": [
    "import numpy as np\n",
    "import nltk\n",
    "import pymorphy2 as p\n",
    "from nltk.tokenize import RegexpTokenizer\n",
    "from nltk.tokenize import sent_tokenize\n",
    "from nltk.corpus import stopwords\n",
    "from tqdm import tqdm_notebook\n",
    "from collections import Counter"
   ]
  },
  {
   "cell_type": "code",
   "execution_count": 226,
   "metadata": {
    "scrolled": false
   },
   "outputs": [
    {
     "name": "stdout",
     "output_type": "stream",
     "text": [
      "================================================================================\n",
      "Article 1 has title \"Потребление сладкого в России побило рекорд\"\n",
      "Annotation with sum is:\n",
      "Продажи кондитерских изделий, по данным «Асконда», увеличились в 2018 году на 3% в натуральном выражении — объем рынка составил 3,7 млн т. Рост продаж кондитерских изделий в денежном выражении зафиксировал и Росстат.\n",
      "В первом квартале 2019 года, по данным Ipsos Comcon, наблюдается небольшой рост доли потребителей сладкого — особенно заметен рост потребления более доступных кондитерских изделий, плиток шоколада и развесных конфет, а также рост частоты потребления плиток и конфет в коробках.\n",
      "В 2018 году, по данным «Асконда», российские кондитеры выпустили 3,9 млн т кондитерских изделий — на 3,7% больше, чем в предыдущем году.\n",
      "По данным Nielsen, в 2018 году продажи алкогольной продукции в России показали рост на 4,6% в денежном выражении по сравнению с предыдущим годом.\n",
      "----------------------------------------\n",
      "Annotation with avg is:\n",
      "Продажи кондитерских изделий, по данным «Асконда», увеличились в 2018 году на 3% в натуральном выражении — объем рынка составил 3,7 млн т. Рост продаж кондитерских изделий в денежном выражении зафиксировал и Росстат.\n",
      "В целом объем рынка кондитерских изделий в России вырос за 2018 год более чем на 5%, по данным Шафоростова.\n",
      "В 2018 году, по данным «Асконда», российские кондитеры выпустили 3,9 млн т кондитерских изделий — на 3,7% больше, чем в предыдущем году.\n",
      "В 2018 году в среднем каждый россиянин употребил 25,2 кг кондитерских изделий.\n",
      "================================================================================\n",
      "\n",
      "================================================================================\n",
      "Article 2 has title \"ИТ-компании и мировые лидеры решили бороться с террористическим контентом\"\n",
      "Annotation with sum is:\n",
      "В среду, 15 мая, премьер-министр Новой Зеландии Джасинда Ардерн, ее британская коллега Тереза Мэй, президент Франции Эмманюэль Макрон, премьер Канады Джастин Трюдо и другие политики собрались в Париже, чтобы обсудить меры по борьбе с проявлениями терроризма в социальных сетях.\n",
      "ИТ-компании взяли на себя обязательства принять дополнительные «конкретные и прозрачные меры» по борьбе с экстремистским контентом, а также разработать такие алгоритмы, чтобы пользователи не получали информацию от радикальных групп.\n",
      "Например, сообщения о террористической атаке могут быть распространены через соцсети новостными агентствами, поэтому, по мнению эксперта, мониторингом контента должны заниматься люди, а не алгоритмы, что потребует больших затрат, которые лягут на компании.\n",
      "В своем выступлении в Париже британский премьер Тереза Мэй отметила, что благодаря действиям властей и ИТ-компаний в 2018 году пропагандистская активность исламистов находилась на самом низком уровне.\n",
      "----------------------------------------\n",
      "Annotation with avg is:\n",
      "ИТ-компании взяли на себя обязательства принять дополнительные «конкретные и прозрачные меры» по борьбе с экстремистским контентом, а также разработать такие алгоритмы, чтобы пользователи не получали информацию от радикальных групп.\n",
      "Распространение экстремистского контента в Новой Зеландии может караться тюремным сроком до 14 лет.\n",
      "На национальном уровне власти стран — участниц саммита также продолжают усиливать меры контроля за информацией.\n",
      "Как говорится в заявлении компании, впредь пользователи, нарушившие регламент соцсети, не смогут вести прямые трансляции.\n",
      "================================================================================\n",
      "\n",
      "================================================================================\n",
      "Article 3 has title \"Эксперты спрогнозировали отзыв лицензий у 46 российских банков\"\n",
      "Annotation with sum is:\n",
      "Банк России с 1 апреля 2019 года по 1 апреля 2020 года может отозвать лицензии у 46 банков, прогнозируют аналитики рейтингового агентства «Эксперт РА» в исследовании, посвященном расчету индекса здоровья банковского сектора (есть у РБК).\n",
      "Всего в России на 1 апреля, по данным ЦБ, было 430 банков, но «Эксперт РА» рассчитывает индекс по данным 422 банков, поскольку ряд банков не публикуют свою отчетность (такая возможность есть у кредитных организаций, попавших под санкции).\n",
      "В феврале 2018 года, после того как ЦБ взял на санацию три крупных частных банка («ФК Открытие», Бинбанк и Промсвязьбанк), а также отозвал лицензию у «Югры», глава ЦБ Эльвира Набиуллина заявляла, что в 2017 году регулятор завершил основную работу по оздоровлению банковского сектора, но в системе по-прежнему остаются проблемы, приводящие к краху банков.\n",
      "На 2018 год «Эксперт РА» прогнозировал отзыв лицензии у 60 банков, по факту ЦБ отозвал 55 банковских лицензий.\n",
      "----------------------------------------\n",
      "Annotation with avg is:\n",
      "На 2018 год «Эксперт РА» прогнозировал отзыв лицензии у 60 банков, по факту ЦБ отозвал 55 банковских лицензий.\n",
      "При этом лицензии также могут быть отозваны и у банков из топ-100, но не более чем у десяти кредитных организаций.\n",
      "Банк России с 1 апреля 2019 года по 1 апреля 2020 года может отозвать лицензии у 46 банков, прогнозируют аналитики рейтингового агентства «Эксперт РА» в исследовании, посвященном расчету индекса здоровья банковского сектора (есть у РБК).\n",
      "«Что касается региональных банков, — возражает Рудых.\n",
      "================================================================================\n",
      "\n"
     ]
    }
   ],
   "source": [
    "morph = p.MorphAnalyzer()\n",
    "tokenizer = RegexpTokenizer(r'\\w+')\n",
    "\n",
    "titles = ['Потребление сладкого в России побило рекорд',\n",
    "                    'ИТ-компании и мировые лидеры решили бороться с террористическим контентом',\n",
    "                    'Эксперты спрогнозировали отзыв лицензий у 46 российских банков']\n",
    "articles = [open('data1.txt', encoding='utf8').read(), \n",
    "            open('data2.txt', encoding='utf8').read(), \n",
    "            open('data3.txt', encoding='utf8').read()]\n",
    "\n",
    "raw_articles = [] # list of raw articles\n",
    "flat_text = [] # list of flat texts for countig word frequences\n",
    "word_freq = [] # list of dicts with word as a key and frequence as value\n",
    "sent_rating = [] # list of numpy arrays where each row contais [sent_#, sent_rating]\n",
    "avg_sent_rating =[] # list on numpy arrays where each row contais [sent_#, avg_sent_rating]\n",
    "best_sent_idx = [] # list of best sentences indices\n",
    "best_avg_sent_idx = [] # list of best (avg) sentences indices\n",
    "\n",
    "for i in range(3):\n",
    "    articles[i] = sent_tokenize(articles[i]) # split by sentences\n",
    "    raw_articles.append(np.copy(articles[i]))\n",
    "    f_t = []\n",
    "    for j in range(len(articles[i])):\n",
    "        articles[i][j] = tokenizer.tokenize(articles[i][j]) # split by words\n",
    "        normalized_sent = []\n",
    "        for k in range(len(articles[i][j])):\n",
    "            word = articles[i][j][k] # get every word\n",
    "            normalized_word = morph.parse(word)[0].normal_form # normal form of word\n",
    "            if normalized_word not in stopwords.words('russian'): # if word is not a stop word\n",
    "                normalized_sent.append(normalized_word)\n",
    "        articles[i][j] = normalized_sent # replace origin sentences by sentences with normalized words and without stop words\n",
    "        sent = ' '.join(articles[i][j]) # join sentences\n",
    "        f_t.append(sent)\n",
    "    f_t = ' '.join(f_t) # join to text\n",
    "    flat_text.append(f_t) # flat text to count frequences\n",
    "    word_freq.append(Counter(flat_text[i].split(' '))) # counting frequences\n",
    "    \n",
    "    sent_rating.append(np.zeros((len(articles[i]), 2)))\n",
    "    sent_rating[i][:, 0] = np.arange(sent_rating[i].shape[0]) # sentences rating has described structure (rating is 0)\n",
    "    avg_sent_rating.append(np.zeros((len(articles[i]), 2))) # for avg_sent_rating too\n",
    "    avg_sent_rating[i][:, 0] = np.arange(sent_rating[i].shape[0])\n",
    "    \n",
    "    for j in range(len(articles[i])):\n",
    "        for k in range(len(articles[i][j])):\n",
    "            word = articles[i][j][k]\n",
    "            freq = word_freq[i][word]\n",
    "            sent_rating[i][j][1] += freq # add each word freq\n",
    "        avg_sent_rating[i][j][1] = sent_rating[i][j][1] / len(articles[i][j])\n",
    "        \n",
    "    sent_rating[i] = sent_rating[i][sent_rating[i][:,1].argsort()[::-1][:4]] # get the best 4 sentences\n",
    "    avg_sent_rating[i] = avg_sent_rating[i][avg_sent_rating[i][:,1].argsort()[::-1][:4]] # get the best 4 sentences\n",
    "    \n",
    "    best_sent_idx.append(sent_rating[i][:,0])\n",
    "    best_avg_sent_idx.append(avg_sent_rating[i][:,0])\n",
    "    print(\"=\"*80)\n",
    "    print(\"Article {} has title \\\"{}\\\"\".format(i+1, titles[i]))\n",
    "    print(\"Annotation with sum is:\")\n",
    "    for b in range(4):\n",
    "        print(raw_articles[i][int(best_sent_idx[i][b])])\n",
    "    print(\"-\"*40)\n",
    "    print(\"Annotation with avg is:\")    \n",
    "    for b in range(4):\n",
    "        print(raw_articles[i][int(best_avg_sent_idx[i][b])])\n",
    "    print(\"=\"*80 + '\\n')        "
   ]
  },
  {
   "cell_type": "markdown",
   "metadata": {},
   "source": [
    "# Вывод"
   ]
  },
  {
   "cell_type": "markdown",
   "metadata": {},
   "source": [
    "Оба метода автоматической аннотации отработали достаточно хорошо. Практически все предложения из построенной аннотации отражают суть статьи. Исключения составили следующие предложения:"
   ]
  },
  {
   "cell_type": "markdown",
   "metadata": {},
   "source": [
    "Для статьи 1:"
   ]
  },
  {
   "cell_type": "markdown",
   "metadata": {},
   "source": [
    "По данным Nielsen, в 2018 году продажи алкогольной продукции в России показали рост на 4,6% в денежном выражении по сравнению с предыдущим годом. (метод суммирования)"
   ]
  },
  {
   "cell_type": "markdown",
   "metadata": {},
   "source": [
    "Для статьи 2:"
   ]
  },
  {
   "cell_type": "markdown",
   "metadata": {},
   "source": [
    "Как говорится в заявлении компании, впредь пользователи, нарушившие регламент соцсети, не смогут вести прямые трансляции. (метод усреднения)"
   ]
  },
  {
   "cell_type": "markdown",
   "metadata": {},
   "source": [
    "Для статьи 3:"
   ]
  },
  {
   "cell_type": "markdown",
   "metadata": {},
   "source": [
    "«Что касается региональных банков, — возражает Рудых. (метод усреднения)"
   ]
  }
 ],
 "metadata": {
  "kernelspec": {
   "display_name": "Python 3",
   "language": "python",
   "name": "python3"
  },
  "language_info": {
   "codemirror_mode": {
    "name": "ipython",
    "version": 3
   },
   "file_extension": ".py",
   "mimetype": "text/x-python",
   "name": "python",
   "nbconvert_exporter": "python",
   "pygments_lexer": "ipython3",
   "version": "3.6.4"
  }
 },
 "nbformat": 4,
 "nbformat_minor": 2
}
