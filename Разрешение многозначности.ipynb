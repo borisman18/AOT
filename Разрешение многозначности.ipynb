{
 "cells": [
  {
   "cell_type": "code",
   "execution_count": 135,
   "metadata": {
    "collapsed": true
   },
   "outputs": [],
   "source": [
    "import nltk\n",
    "import pandas as pd\n",
    "import numpy as np\n",
    "import pymorphy2\n",
    "import re\n",
    "from sklearn.naive_bayes import MultinomialNB\n",
    "from sklearn.metrics import accuracy_score\n",
    "from sklearn.feature_extraction.text import CountVectorizer\n",
    "import warnings\n",
    "warnings.filterwarnings(\"ignore\")"
   ]
  },
  {
   "cell_type": "code",
   "execution_count": 125,
   "metadata": {
    "collapsed": true
   },
   "outputs": [],
   "source": [
    "TARGET_WORD = 'язык'\n",
    "POS = ['VERB', 'NUMR', 'ADJF', 'ADJS', 'PRTF', 'PRTS', 'ADVB', 'NOUN', 'NPRO', 'GRND', 'INFN', 'PRED']"
   ]
  },
  {
   "cell_type": "markdown",
   "metadata": {},
   "source": [
    "Обучающая и тестовая коллекции для разных значений слова \"язык\""
   ]
  },
  {
   "cell_type": "code",
   "execution_count": 119,
   "metadata": {
    "collapsed": true
   },
   "outputs": [],
   "source": [
    "train_lang = [\n",
    "    'Чтобы книгу прочли на русском языке, ее нужно сначала перевести',\n",
    "    'В отличе от остальной группы немецким языком он владел очень плохо',\n",
    "    'Изучать иностранные языки нужно для общения с иностранцами',\n",
    "    'А ведь у вас совсем другие цели — просто научиться общаться на иностранном языке, понимать его в разговоре и при чтении',\n",
    "    'В индоиранских и греческом языках имеется большое число сходных слов',\n",
    "    'На разных языках оно звучало по-разному',\n",
    "    'В школах полезно детям читать отрывки на незнакомых языках, замечая, как понимается чуждая речь',\n",
    "    'Если ты мечтаешь выучить китайский язык, тебе придётся найти на это время',\n",
    "    'Не стоит учить иностранный язык только потому, что он вам понравился во время поездки за рубеж',\n",
    "    'Получив образование за границей, он великолепно знал европейские языки'\n",
    "]\n",
    "train_tongue = [\n",
    "    'Собака бежала,высунув язык',\n",
    "    'язык участвует в процессе жевания',\n",
    "    'Слизистая оболочка языка плотно сращена соединительной тканью',\n",
    "    'Кошки, как и многие другие животные, активно используют язык для вылизывания себя и детёнышей',\n",
    "    'Нужно держать свой язык за зубами и никто не пострадает',\n",
    "    'В состоянии покоя язык имеет лопатообразную форму',\n",
    "    'Верхушка языка прилежит к задней поверхности передних зубов',\n",
    "    'Собаки с помощью языка осуществляют теплорегуляцию',\n",
    "    'Основную массу языка составляют мышцы с их соединительнотканным аппаратом',\n",
    "    'язык человека орган, помогающий диагностировать некоторые заболевания человека'\n",
    "]\n",
    "test_lang = [\n",
    "    'я выучил русский язык очень быстро',\n",
    "    'литературный язык очень красивый',\n",
    "    'люди используют язык для достижения взаимопонимания',\n",
    "    'человечество придумало язык жестов для людей, которые не могут использовать разговорный',\n",
    "    'незнание нашего языка вяляется барьером для людей, говорящих на другом'\n",
    "]\n",
    "\n",
    "test_tongue = [\n",
    "    'язык необходим при жевании пищи',\n",
    "    'у собак очень длинный язык',\n",
    "    'красный язык признак заболевания',\n",
    "    'не все животные используют язык только для жевания пищи',\n",
    "    'она показала язык и я все понял'\n",
    "]"
   ]
  },
  {
   "cell_type": "markdown",
   "metadata": {},
   "source": [
    "Функция, которая принимает на вход список предложений, возвращает список списков токенов каждого предложения в окрестности слова язык (2 слева и 2 справа)"
   ]
  },
  {
   "cell_type": "code",
   "execution_count": 120,
   "metadata": {
    "collapsed": true
   },
   "outputs": [],
   "source": [
    "def text_to_sub_sent(text, remove_special_words=True):\n",
    "    tokenizer = nltk.tokenize.RegexpTokenizer(r'\\w+')\n",
    "    morph = pymorphy2.MorphAnalyzer()\n",
    "    result = []\n",
    "    for sent in text:\n",
    "        tokens = tokenizer.tokenize(sent)\n",
    "        if remove_special_words:\n",
    "            tokens = [x for x in tokens if morph.parse(x)[0].tag.POS in POS]\n",
    "        target_indices = [i for i, e in enumerate(tokens) if re.match('язык.*',e ) is not None]\n",
    "        for i in range(len(target_indices)):\n",
    "            if target_indices[i] == 0: \n",
    "                lower_bound = 0\n",
    "                begin_none_cnt = 2\n",
    "            elif target_indices[i] == 1: \n",
    "                lower_bound = 0\n",
    "                begin_none_cnt = 1\n",
    "            else:\n",
    "                lower_bound = target_indices[i] - 2\n",
    "                begin_none_cnt = 0\n",
    "            if target_indices[i] == len(tokens) - 1:\n",
    "                upper_bound = len(tokens) - 1\n",
    "                end_none_cnt = 2\n",
    "            elif target_indices[i] == len(tokens) - 2:\n",
    "                upper_bound = len(tokens) - 1\n",
    "                end_none_cnt = 1\n",
    "            else:\n",
    "                upper_bound = target_indices[i] + 2\n",
    "                end_none_cnt = 0\n",
    "            result.append([None]*begin_none_cnt + tokens[lower_bound:upper_bound + 1] + [None]*end_none_cnt)\n",
    "    return result"
   ]
  },
  {
   "cell_type": "markdown",
   "metadata": {},
   "source": [
    "Функция, которая возвращает обработанные данные функции text_to_sub_sent(), т.е. признаки"
   ]
  },
  {
   "cell_type": "code",
   "execution_count": 126,
   "metadata": {},
   "outputs": [],
   "source": [
    "def get_features(subs, full_text, text, label, word_appearance=True, freq=True):\n",
    "    if not word_appearance and not freq:\n",
    "        raise ValueError\n",
    "    result = np.empty((0, len(POS)*4)).astype(int)\n",
    "    morph = pymorphy2.MorphAnalyzer()\n",
    "    vectorizer = CountVectorizer()\n",
    "    for sub in subs:  \n",
    "        left_2 = pd.Series(data=np.zeros((len(POS))), index=POS)\n",
    "        try:\n",
    "            tag = morph.parse(sub[0])[0].tag.POS\n",
    "            left_2[tag] = 1\n",
    "        except AttributeError:\n",
    "            pass      \n",
    "        left_1 = pd.Series(data=np.zeros((len(POS))), index=POS)\n",
    "        try:\n",
    "            tag = morph.parse(sub[1])[0].tag.POS\n",
    "            left_1[tag] = 1\n",
    "        except AttributeError:\n",
    "            pass     \n",
    "        right_1 = pd.Series(data=np.zeros((len(POS))), index=POS)\n",
    "        try:\n",
    "            tag = morph.parse(sub[3])[0].tag.POS\n",
    "            right_1[tag] = 1\n",
    "        except AttributeError:\n",
    "            pass   \n",
    "        right_2 = pd.Series(data=np.zeros((len(POS))), index=POS)\n",
    "        try:\n",
    "            tag = morph.parse(sub[4])[0].tag.POS\n",
    "            right_2[tag] = 1\n",
    "        except AttributeError:\n",
    "            pass    \n",
    "        sub_features = np.array([pd.concat([left_2,left_1,right_1,right_2])]).astype(int)\n",
    "        result = np.append(result, sub_features, axis=0)\n",
    "    if word_appearance:\n",
    "        vectorizer.fit_transform(full_text).toarray()\n",
    "        result = np.hstack((result, vectorizer.transform(text).toarray()))\n",
    "    if not freq:\n",
    "        vectorizer.fit_transform(full_text).toarray()\n",
    "        result = vectorizer.transform(text).toarray()\n",
    "    return np.insert(result, result.shape[1], label, axis=1)"
   ]
  },
  {
   "cell_type": "code",
   "execution_count": 136,
   "metadata": {},
   "outputs": [
    {
     "name": "stdout",
     "output_type": "stream",
     "text": [
      "Точность классификатора: \n"
     ]
    },
    {
     "data": {
      "text/plain": [
       "0.6"
      ]
     },
     "execution_count": 136,
     "metadata": {},
     "output_type": "execute_result"
    }
   ],
   "source": [
    "word_appearance=True\n",
    "freq=True\n",
    "model = MultinomialNB()\n",
    "train = np.vstack((\n",
    "    get_features(text_to_sub_sent(train_lang), train_lang + train_tongue, train_lang, 0, word_appearance, freq), \n",
    "    get_features(text_to_sub_sent(train_tongue), train_lang + train_tongue, train_tongue, 1, word_appearance, freq)\n",
    "))\n",
    "X = train[:,:-1]\n",
    "y = train[:,-1:]\n",
    "model.fit(X, y)\n",
    "\n",
    "\n",
    "test = np.vstack((\n",
    "    get_features(text_to_sub_sent(test_lang), train_lang + train_tongue, test_lang, 0, word_appearance, freq), \n",
    "    get_features(text_to_sub_sent(test_tongue), train_lang + train_tongue, test_tongue, 1, word_appearance, freq)\n",
    "))\n",
    "X_test = test[:,:-1]\n",
    "y_test = test[:,-1:]\n",
    "print('Точность классификатора: ')\n",
    "accuracy_score(y_test,model.predict(X_test))"
   ]
  },
  {
   "cell_type": "code",
   "execution_count": 137,
   "metadata": {},
   "outputs": [
    {
     "name": "stdout",
     "output_type": "stream",
     "text": [
      "Точность классификатора: \n"
     ]
    },
    {
     "data": {
      "text/plain": [
       "0.5"
      ]
     },
     "execution_count": 137,
     "metadata": {},
     "output_type": "execute_result"
    }
   ],
   "source": [
    "word_appearance=True\n",
    "freq=False\n",
    "model = MultinomialNB()\n",
    "train = np.vstack((\n",
    "    get_features(text_to_sub_sent(train_lang), train_lang + train_tongue, train_lang, 0, word_appearance, freq), \n",
    "    get_features(text_to_sub_sent(train_tongue), train_lang + train_tongue, train_tongue, 1, word_appearance, freq)\n",
    "))\n",
    "X = train[:,:-1]\n",
    "y = train[:,-1:]\n",
    "model.fit(X, y)\n",
    "\n",
    "\n",
    "test = np.vstack((\n",
    "    get_features(text_to_sub_sent(test_lang), train_lang + train_tongue, test_lang, 0, word_appearance, freq), \n",
    "    get_features(text_to_sub_sent(test_tongue), train_lang + train_tongue, test_tongue, 1, word_appearance, freq)\n",
    "))\n",
    "X_test = test[:,:-1]\n",
    "y_test = test[:,-1:]\n",
    "print('Точность классификатора: ')\n",
    "accuracy_score(y_test,model.predict(X_test))"
   ]
  },
  {
   "cell_type": "code",
   "execution_count": 138,
   "metadata": {},
   "outputs": [
    {
     "name": "stdout",
     "output_type": "stream",
     "text": [
      "Точность классификатора: \n"
     ]
    },
    {
     "data": {
      "text/plain": [
       "0.5"
      ]
     },
     "execution_count": 138,
     "metadata": {},
     "output_type": "execute_result"
    }
   ],
   "source": [
    "word_appearance=False\n",
    "freq=True\n",
    "model = MultinomialNB()\n",
    "train = np.vstack((\n",
    "    get_features(text_to_sub_sent(train_lang), train_lang + train_tongue, train_lang, 0, word_appearance, freq), \n",
    "    get_features(text_to_sub_sent(train_tongue), train_lang + train_tongue, train_tongue, 1, word_appearance, freq)\n",
    "))\n",
    "X = train[:,:-1]\n",
    "y = train[:,-1:]\n",
    "model.fit(X, y)\n",
    "\n",
    "\n",
    "test = np.vstack((\n",
    "    get_features(text_to_sub_sent(test_lang), train_lang + train_tongue, test_lang, 0, word_appearance, freq), \n",
    "    get_features(text_to_sub_sent(test_tongue), train_lang + train_tongue, test_tongue, 1, word_appearance, freq)\n",
    "))\n",
    "X_test = test[:,:-1]\n",
    "y_test = test[:,-1:]\n",
    "print('Точность классификатора: ')\n",
    "accuracy_score(y_test,model.predict(X_test))"
   ]
  },
  {
   "cell_type": "markdown",
   "metadata": {},
   "source": [
    "# Вывод"
   ]
  },
  {
   "cell_type": "markdown",
   "metadata": {},
   "source": [
    "При тестировании установлено, что если использовать и части речи, и появление слова в предложении, точность составляет 0.6; если хотя бы один из наборов признаков не использовать, точность составляет 0.5"
   ]
  }
 ],
 "metadata": {
  "kernelspec": {
   "display_name": "Python 3",
   "language": "python",
   "name": "python3"
  },
  "language_info": {
   "codemirror_mode": {
    "name": "ipython",
    "version": 3
   },
   "file_extension": ".py",
   "mimetype": "text/x-python",
   "name": "python",
   "nbconvert_exporter": "python",
   "pygments_lexer": "ipython3",
   "version": "3.6.2"
  }
 },
 "nbformat": 4,
 "nbformat_minor": 2
}
