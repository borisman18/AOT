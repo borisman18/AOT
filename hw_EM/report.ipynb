{
 "cells": [
  {
   "cell_type": "code",
   "execution_count": 36,
   "metadata": {},
   "outputs": [],
   "source": [
    "import numpy as np\n",
    "from random import uniform\n",
    "from sklearn.preprocessing import normalize"
   ]
  },
  {
   "cell_type": "code",
   "execution_count": 57,
   "metadata": {},
   "outputs": [],
   "source": [
    "def rand_matrix(shape):\n",
    "    res = np.zeros(shape=shape)\n",
    "    min_value = 0.01\n",
    "    max_value = 1\n",
    "    for i in range(shape[1]):\n",
    "        col_sum = 0\n",
    "        for j in range(shape[0]):\n",
    "            if j == shape[0] - 1:\n",
    "                res[j][i] = 1.0 - col_sum\n",
    "            else:\n",
    "                res[j][i] = uniform(min_value, max_value) / shape[0]\n",
    "                col_sum += res[j][i]\n",
    "    return res"
   ]
  },
  {
   "cell_type": "code",
   "execution_count": 35,
   "metadata": {},
   "outputs": [],
   "source": [
    "dictionary = ['w0', 'w1', 'w2']\n",
    "\n",
    "data = [\n",
    "    ['w0', 'w1', 'w1'],\n",
    "    ['w0', 'w1', 'w2'],\n",
    "    ['w0', 'w2', 'w2']\n",
    "]"
   ]
  },
  {
   "cell_type": "code",
   "execution_count": 81,
   "metadata": {},
   "outputs": [],
   "source": [
    "def em_step(wt, td, data, dictionary, cl=2):\n",
    "    fi = np.zeros(shape=(len(data), cl))\n",
    "    theta = np.zeros(shape=(cl, len(dictionary)))\n",
    "    \n",
    "    def n_w_d(word, doc):\n",
    "        return data[doc].count(dictionary[word])\n",
    "    \n",
    "    def p_w_d(word, doc):\n",
    "        s = 0\n",
    "        for i in range(cl):\n",
    "            s += wt[word][i] * td[i][doc]\n",
    "        return s\n",
    "    \n",
    "    def p_t_w_d(c, word, doc):\n",
    "        return wt[word][c] * td[c][doc] / p_w_d(word, doc)\n",
    "    \n",
    "    def n_d_w_t(c, word, doc):\n",
    "        return n_w_d(word, doc) * p_t_w_d(c, word, doc)\n",
    "    \n",
    "    def n_w_t(c, word):\n",
    "        s = 0\n",
    "        for i in range(len(data)):\n",
    "            s += n_d_w_t(c, word, i)\n",
    "        return s\n",
    "    \n",
    "    def n_t_d(c, doc):\n",
    "        s = 0\n",
    "        for i in range(len(data[doc])):\n",
    "            s += n_d_w_t(c, i, doc)\n",
    "        return s\n",
    "    \n",
    "    def n_t(c):\n",
    "        s = 0\n",
    "        for i in range(len(dictionary)):\n",
    "            s += n_w_t(c, i)\n",
    "        return s\n",
    "    \n",
    "    def n_d(doc):\n",
    "        s = 0\n",
    "        for i in range(cl):\n",
    "            s += n_t_d(i, doc)\n",
    "        return s\n",
    "    \n",
    "    \n",
    "    for i in range(fi.shape[0]):\n",
    "        for j in range(fi.shape[1]):\n",
    "            fi[i][j] = n_w_t(j, i) / n_t(j)\n",
    "            \n",
    "    for i in range(theta.shape[0]):\n",
    "        for j in range(theta.shape[1]):\n",
    "            theta[i][j] = n_t_d(i, j) / n_d(j)\n",
    "            \n",
    "    return fi, theta            "
   ]
  },
  {
   "cell_type": "code",
   "execution_count": 90,
   "metadata": {},
   "outputs": [],
   "source": [
    "def EM(data, dictionary, cl=2, iter_num=5):\n",
    "    word_t = normalize(rand_matrix([3, 2]), axis=0)\n",
    "    t_doc = normalize(rand_matrix([2, 3]), axis=0)\n",
    "    \n",
    "    word_matrix = word_t\n",
    "    doc_matrix = t_doc\n",
    "    \n",
    "    for it in range(iter_num):\n",
    "        prob_word, prob_doc = em_step(word_matrix, doc_matrix, data, dictionary, 2)\n",
    "        word_matrix = prob_word\n",
    "        doc_matrix = prob_doc\n",
    "        \n",
    "        print(\"word_matrix\\n\", word_matrix)\n",
    "        print(\"doc_matrix\\n\", doc_matrix)\n",
    "        print(\"-\"*40)"
   ]
  },
  {
   "cell_type": "code",
   "execution_count": 93,
   "metadata": {},
   "outputs": [
    {
     "name": "stdout",
     "output_type": "stream",
     "text": [
      "word_matrix\n",
      " [[0.49287201 0.31246472]\n",
      " [0.16515024 0.35533269]\n",
      " [0.34197775 0.33220259]]\n",
      "doc_matrix\n",
      " [[0.13255514 0.15222337 0.06224652]\n",
      " [0.86744486 0.84777663 0.93775348]]\n",
      "----------------------------------------\n",
      "word_matrix\n",
      " [[0.50804332 0.31141361]\n",
      " [0.20896328 0.34893724]\n",
      " [0.2829934  0.33964916]]\n",
      "doc_matrix\n",
      " [[0.10895005 0.15124773 0.07423379]\n",
      " [0.89104995 0.84875227 0.92576621]]\n",
      "----------------------------------------\n",
      "word_matrix\n",
      " [[0.50995766 0.31138842]\n",
      " [0.23413638 0.34565818]\n",
      " [0.25590595 0.3429534 ]]\n",
      "doc_matrix\n",
      " [[0.10091883 0.15031444 0.08031221]\n",
      " [0.89908117 0.84968556 0.91968779]]\n",
      "----------------------------------------\n",
      "word_matrix\n",
      " [[0.50894326 0.31157153]\n",
      " [0.25024746 0.34362944]\n",
      " [0.24080928 0.34479903]]\n",
      "doc_matrix\n",
      " [[0.09886653 0.1494181  0.08248929]\n",
      " [0.90113347 0.8505819  0.91751071]]\n",
      "----------------------------------------\n",
      "word_matrix\n",
      " [[0.50713964 0.31180704]\n",
      " [0.26354643 0.34197659]\n",
      " [0.22931392 0.34621637]]\n",
      "doc_matrix\n",
      " [[0.09998394 0.14855454 0.08207135]\n",
      " [0.90001606 0.85144546 0.91792865]]\n",
      "----------------------------------------\n"
     ]
    }
   ],
   "source": [
    "EM(data, dictionary, iter_num=5)"
   ]
  },
  {
   "cell_type": "markdown",
   "metadata": {},
   "source": [
    "После пяти итераций: все документы с достоточно большой вероятностью принадлежат ко второй теме; в первой теме наиболее вероятно слово w0, ко второй все слова практически равовероятны (слово w2 с небольшим перевесом побеждает)\n"
   ]
  }
 ],
 "metadata": {
  "kernelspec": {
   "display_name": "Python 3",
   "language": "python",
   "name": "python3"
  },
  "language_info": {
   "codemirror_mode": {
    "name": "ipython",
    "version": 3
   },
   "file_extension": ".py",
   "mimetype": "text/x-python",
   "name": "python",
   "nbconvert_exporter": "python",
   "pygments_lexer": "ipython3",
   "version": "3.6.4"
  }
 },
 "nbformat": 4,
 "nbformat_minor": 2
}
