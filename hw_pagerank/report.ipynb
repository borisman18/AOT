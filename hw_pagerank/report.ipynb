{
 "cells": [
  {
   "cell_type": "code",
   "execution_count": 102,
   "metadata": {},
   "outputs": [],
   "source": [
    "import numpy as np\n",
    "import pandas as pd"
   ]
  },
  {
   "cell_type": "markdown",
   "metadata": {},
   "source": [
    "# Task 1"
   ]
  },
  {
   "cell_type": "code",
   "execution_count": 103,
   "metadata": {},
   "outputs": [
    {
     "name": "stdout",
     "output_type": "stream",
     "text": [
      "page rank converged after iteration 2\n",
      "\n",
      "transition matrix\n",
      " [[0 1 1]\n",
      " [0 0 1]\n",
      " [0 1 0]]\n",
      "\n",
      "probability matrix\n",
      " [[0.03333333 0.48333333 0.48333333]\n",
      " [0.03333333 0.03333333 0.93333333]\n",
      " [0.03333333 0.93333333 0.03333333]]\n",
      "\n",
      "page rank\n",
      " [0.03333333 0.48333333 0.48333333]\n"
     ]
    }
   ],
   "source": [
    "transition_matrix = np.array([\n",
    "    [0, 1, 1],\n",
    "    [0, 0, 1],\n",
    "    [0, 1, 0]\n",
    "])\n",
    "teleportation_coef = 0.1\n",
    "\n",
    "prob_matrix = transition_matrix / np.sum(transition_matrix, axis=1)[:, None]\n",
    "prob_matrix *= np.array([1 - teleportation_coef] * 3)\n",
    "prob_matrix += np.array([teleportation_coef / 3] * 3)\n",
    "\n",
    "page_rank = np.array([1 / 3] * 3)\n",
    "\n",
    "prev_page_rank = np.ones(shape=(3))\n",
    "epsilon = 1e-10\n",
    "iteration = 0\n",
    "while np.all(prev_page_rank - page_rank) > epsilon:\n",
    "    iteration += 1\n",
    "    prev_page_rank = page_rank\n",
    "    page_rank = np.dot(page_rank, prob_matrix)\n",
    "print('page rank converged after iteration', iteration)\n",
    "print('\\ntransition matrix\\n', transition_matrix)\n",
    "print('\\nprobability matrix\\n', prob_matrix)\n",
    "print('\\npage rank\\n', page_rank)"
   ]
  },
  {
   "cell_type": "markdown",
   "metadata": {},
   "source": [
    "# Task 2"
   ]
  },
  {
   "cell_type": "code",
   "execution_count": 104,
   "metadata": {},
   "outputs": [
    {
     "data": {
      "text/html": [
       "<div>\n",
       "<style scoped>\n",
       "    .dataframe tbody tr th:only-of-type {\n",
       "        vertical-align: middle;\n",
       "    }\n",
       "\n",
       "    .dataframe tbody tr th {\n",
       "        vertical-align: top;\n",
       "    }\n",
       "\n",
       "    .dataframe thead th {\n",
       "        text-align: right;\n",
       "    }\n",
       "</style>\n",
       "<table border=\"1\" class=\"dataframe\">\n",
       "  <thead>\n",
       "    <tr style=\"text-align: right;\">\n",
       "      <th></th>\n",
       "      <th>Home</th>\n",
       "      <th>About</th>\n",
       "      <th>Product</th>\n",
       "      <th>Links</th>\n",
       "      <th>EsA</th>\n",
       "      <th>EsB</th>\n",
       "      <th>EsC</th>\n",
       "      <th>EsD</th>\n",
       "    </tr>\n",
       "  </thead>\n",
       "  <tbody>\n",
       "    <tr>\n",
       "      <th>Home</th>\n",
       "      <td>0</td>\n",
       "      <td>1</td>\n",
       "      <td>1</td>\n",
       "      <td>1</td>\n",
       "      <td>0</td>\n",
       "      <td>0</td>\n",
       "      <td>0</td>\n",
       "      <td>0</td>\n",
       "    </tr>\n",
       "    <tr>\n",
       "      <th>About</th>\n",
       "      <td>1</td>\n",
       "      <td>0</td>\n",
       "      <td>0</td>\n",
       "      <td>0</td>\n",
       "      <td>0</td>\n",
       "      <td>0</td>\n",
       "      <td>0</td>\n",
       "      <td>0</td>\n",
       "    </tr>\n",
       "    <tr>\n",
       "      <th>Product</th>\n",
       "      <td>1</td>\n",
       "      <td>0</td>\n",
       "      <td>0</td>\n",
       "      <td>0</td>\n",
       "      <td>0</td>\n",
       "      <td>0</td>\n",
       "      <td>0</td>\n",
       "      <td>0</td>\n",
       "    </tr>\n",
       "    <tr>\n",
       "      <th>Links</th>\n",
       "      <td>1</td>\n",
       "      <td>0</td>\n",
       "      <td>0</td>\n",
       "      <td>0</td>\n",
       "      <td>1</td>\n",
       "      <td>1</td>\n",
       "      <td>1</td>\n",
       "      <td>1</td>\n",
       "    </tr>\n",
       "    <tr>\n",
       "      <th>EsA</th>\n",
       "      <td>0</td>\n",
       "      <td>0</td>\n",
       "      <td>0</td>\n",
       "      <td>0</td>\n",
       "      <td>0</td>\n",
       "      <td>0</td>\n",
       "      <td>0</td>\n",
       "      <td>0</td>\n",
       "    </tr>\n",
       "    <tr>\n",
       "      <th>EsB</th>\n",
       "      <td>0</td>\n",
       "      <td>0</td>\n",
       "      <td>0</td>\n",
       "      <td>0</td>\n",
       "      <td>0</td>\n",
       "      <td>0</td>\n",
       "      <td>0</td>\n",
       "      <td>0</td>\n",
       "    </tr>\n",
       "    <tr>\n",
       "      <th>EsC</th>\n",
       "      <td>0</td>\n",
       "      <td>0</td>\n",
       "      <td>0</td>\n",
       "      <td>0</td>\n",
       "      <td>0</td>\n",
       "      <td>0</td>\n",
       "      <td>0</td>\n",
       "      <td>0</td>\n",
       "    </tr>\n",
       "    <tr>\n",
       "      <th>EsD</th>\n",
       "      <td>0</td>\n",
       "      <td>0</td>\n",
       "      <td>0</td>\n",
       "      <td>0</td>\n",
       "      <td>0</td>\n",
       "      <td>0</td>\n",
       "      <td>0</td>\n",
       "      <td>0</td>\n",
       "    </tr>\n",
       "  </tbody>\n",
       "</table>\n",
       "</div>"
      ],
      "text/plain": [
       "         Home  About  Product  Links  EsA  EsB  EsC  EsD\n",
       "Home        0      1        1      1    0    0    0    0\n",
       "About       1      0        0      0    0    0    0    0\n",
       "Product     1      0        0      0    0    0    0    0\n",
       "Links       1      0        0      0    1    1    1    1\n",
       "EsA         0      0        0      0    0    0    0    0\n",
       "EsB         0      0        0      0    0    0    0    0\n",
       "EsC         0      0        0      0    0    0    0    0\n",
       "EsD         0      0        0      0    0    0    0    0"
      ]
     },
     "execution_count": 104,
     "metadata": {},
     "output_type": "execute_result"
    }
   ],
   "source": [
    "nodes = ['Home', 'About', 'Product', 'Links', 'EsA', 'EsB', 'EsC', 'EsD']\n",
    "transition_matrix = pd.DataFrame(np.zeros((8,8)).astype(int), columns=nodes, index=nodes)\n",
    "transition_matrix.loc['Home'][['About', 'Product', 'Links']] = 1\n",
    "transition_matrix.loc['About'][['Home']] = 1\n",
    "transition_matrix.loc['Product'][['Home']] = 1\n",
    "transition_matrix.loc['Links'][['Home', 'EsA']] = 1\n",
    "transition_matrix.loc['Links'][['Home', 'EsB']] = 1\n",
    "transition_matrix.loc['Links'][['Home', 'EsC']] = 1\n",
    "transition_matrix.loc['Links'][['Home', 'EsD']] = 1\n",
    "transition_matrix"
   ]
  },
  {
   "cell_type": "code",
   "execution_count": 105,
   "metadata": {},
   "outputs": [
    {
     "name": "stderr",
     "output_type": "stream",
     "text": [
      "C:\\tools\\Anaconda3\\lib\\site-packages\\ipykernel_launcher.py:2: RuntimeWarning: invalid value encountered in true_divide\n",
      "  \n"
     ]
    },
    {
     "data": {
      "text/plain": [
       "array([[0.0125, 0.3125, 0.3125, 0.3125, 0.0125, 0.0125, 0.0125, 0.0125],\n",
       "       [0.9125, 0.0125, 0.0125, 0.0125, 0.0125, 0.0125, 0.0125, 0.0125],\n",
       "       [0.9125, 0.0125, 0.0125, 0.0125, 0.0125, 0.0125, 0.0125, 0.0125],\n",
       "       [0.1925, 0.0125, 0.0125, 0.0125, 0.1925, 0.1925, 0.1925, 0.1925],\n",
       "       [0.125 , 0.125 , 0.125 , 0.125 , 0.125 , 0.125 , 0.125 , 0.125 ],\n",
       "       [0.125 , 0.125 , 0.125 , 0.125 , 0.125 , 0.125 , 0.125 , 0.125 ],\n",
       "       [0.125 , 0.125 , 0.125 , 0.125 , 0.125 , 0.125 , 0.125 , 0.125 ],\n",
       "       [0.125 , 0.125 , 0.125 , 0.125 , 0.125 , 0.125 , 0.125 , 0.125 ]])"
      ]
     },
     "execution_count": 105,
     "metadata": {},
     "output_type": "execute_result"
    }
   ],
   "source": [
    "prob_matrix = np.array(transition_matrix)\n",
    "prob_matrix = prob_matrix / np.sum(prob_matrix, axis=1)[:, None]\n",
    "prob_matrix *= np.array([1 - teleportation_coef] * 8)\n",
    "prob_matrix += np.array([teleportation_coef / 8] * 8)\n",
    "prob_matrix[-4:, :] = 1 / 8\n",
    "prob_matrix"
   ]
  },
  {
   "cell_type": "code",
   "execution_count": 106,
   "metadata": {
    "scrolled": false
   },
   "outputs": [
    {
     "name": "stdout",
     "output_type": "stream",
     "text": [
      "page rank converged after iteration 147\n",
      "\n",
      "transition matrix\n",
      "          Home  About  Product  Links  EsA  EsB  EsC  EsD\n",
      "Home        0      1        1      1    0    0    0    0\n",
      "About       1      0        0      0    0    0    0    0\n",
      "Product     1      0        0      0    0    0    0    0\n",
      "Links       1      0        0      0    1    1    1    1\n",
      "EsA         0      0        0      0    0    0    0    0\n",
      "EsB         0      0        0      0    0    0    0    0\n",
      "EsC         0      0        0      0    0    0    0    0\n",
      "EsD         0      0        0      0    0    0    0    0\n",
      "\n",
      "probability matrix\n",
      " [[0.0125 0.3125 0.3125 0.3125 0.0125 0.0125 0.0125 0.0125]\n",
      " [0.9125 0.0125 0.0125 0.0125 0.0125 0.0125 0.0125 0.0125]\n",
      " [0.9125 0.0125 0.0125 0.0125 0.0125 0.0125 0.0125 0.0125]\n",
      " [0.1925 0.0125 0.0125 0.0125 0.1925 0.1925 0.1925 0.1925]\n",
      " [0.125  0.125  0.125  0.125  0.125  0.125  0.125  0.125 ]\n",
      " [0.125  0.125  0.125  0.125  0.125  0.125  0.125  0.125 ]\n",
      " [0.125  0.125  0.125  0.125  0.125  0.125  0.125  0.125 ]\n",
      " [0.125  0.125  0.125  0.125  0.125  0.125  0.125  0.125 ]]\n",
      "\n",
      "page rank\n",
      " [0.31567797 0.13771186 0.13771186 0.13771186 0.06779661 0.06779661\n",
      " 0.06779661 0.06779661]\n"
     ]
    }
   ],
   "source": [
    "page_rank = np.array([1 / 8] * 8)\n",
    "\n",
    "prev_page_rank = np.ones(shape=(8))\n",
    "epsilon = 1e-10\n",
    "iteration = 0\n",
    "while np.all(prev_page_rank - page_rank) > epsilon:\n",
    "    iteration += 1\n",
    "    prev_page_rank = page_rank\n",
    "    page_rank = np.dot(page_rank, prob_matrix)\n",
    "print('page rank converged after iteration', iteration)\n",
    "print('\\ntransition matrix\\n', transition_matrix)\n",
    "print('\\nprobability matrix\\n', prob_matrix)\n",
    "print('\\npage rank\\n', page_rank)"
   ]
  }
 ],
 "metadata": {
  "kernelspec": {
   "display_name": "Python 3",
   "language": "python",
   "name": "python3"
  },
  "language_info": {
   "codemirror_mode": {
    "name": "ipython",
    "version": 3
   },
   "file_extension": ".py",
   "mimetype": "text/x-python",
   "name": "python",
   "nbconvert_exporter": "python",
   "pygments_lexer": "ipython3",
   "version": "3.6.4"
  }
 },
 "nbformat": 4,
 "nbformat_minor": 2
}
