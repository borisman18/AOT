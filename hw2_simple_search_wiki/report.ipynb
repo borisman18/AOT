{
 "cells": [
  {
   "cell_type": "code",
   "execution_count": 174,
   "metadata": {},
   "outputs": [],
   "source": [
    "import numpy as np\n",
    "import pandas as pd\n",
    "from nltk import sent_tokenize\n",
    "import re\n",
    "import pymorphy2\n",
    "import string\n",
    "from tqdm import tqdm_notebook\n",
    "from sklearn.metrics.pairwise import cosine_similarity\n",
    "import operator\n",
    "from collections import Counter\n",
    "regex = re.compile('[%s]' % re.escape(string.punctuation))"
   ]
  },
  {
   "cell_type": "code",
   "execution_count": 72,
   "metadata": {},
   "outputs": [],
   "source": [
    "morph = pymorphy2.MorphAnalyzer()"
   ]
  },
  {
   "cell_type": "code",
   "execution_count": 90,
   "metadata": {},
   "outputs": [],
   "source": [
    "facts = ['Калифорнийский посёлок был независим от США почти 3 месяца пока не пришла пора праздновать День независимости и закупать алкоголь',\n",
    "        'В наполеоновской артиллерии служили три генерала из одной семьи',\n",
    "        'Совершивший первое кругосветное путешествие на велосипеде ездил по России на коне']\n",
    "normalized_facts = []\n",
    "for i in range(len(facts)):\n",
    "    tokens = facts[i].split()\n",
    "    for j in range(len(tokens)):\n",
    "        tokens[j] = morph.parse(tokens[j])[0].normal_form\n",
    "    normalized_facts.append(' '.join(tokens))"
   ]
  },
  {
   "cell_type": "markdown",
   "metadata": {},
   "source": [
    "## Normalized facts "
   ]
  },
  {
   "cell_type": "code",
   "execution_count": 91,
   "metadata": {},
   "outputs": [
    {
     "name": "stdout",
     "output_type": "stream",
     "text": [
      "калифорнийский посёлок быть независимый от сша почти 3 месяц пока не пришлый пора праздновать день независимость и закупать алкоголь \n",
      "\n",
      "в наполеоновский артиллерия служить три генерал из один семья \n",
      "\n",
      "совершить первое кругосветный путешествие на велосипед ездить по россия на кон \n",
      "\n"
     ]
    }
   ],
   "source": [
    "for fact in normalized_facts:\n",
    "    print(fact, '\\n')"
   ]
  },
  {
   "cell_type": "code",
   "execution_count": 92,
   "metadata": {},
   "outputs": [],
   "source": [
    "docs = open('data.txt', encoding='utf8').read()\n",
    "docs = sent_tokenize(docs)\n",
    "normalized_docs = []\n",
    "for i in range(len(docs)):\n",
    "    docs[i] = regex.sub(' ', docs[i])\n",
    "    docs[i] = docs[i][:-1]\n",
    "    tokens = docs[i].split()\n",
    "    for j in range(len(tokens)):\n",
    "        tokens[j] = morph.parse(tokens[j])[0].normal_form\n",
    "    normalized_docs.append(' '.join(tokens))"
   ]
  },
  {
   "cell_type": "code",
   "execution_count": 93,
   "metadata": {},
   "outputs": [],
   "source": [
    "text = ' '.join(normalized_docs)"
   ]
  },
  {
   "cell_type": "code",
   "execution_count": 157,
   "metadata": {},
   "outputs": [],
   "source": [
    "dictionary = np.unique(text.split())\n",
    "dict_frame_d = pd.DataFrame(index=range(len(normalized_docs)), columns=dictionary)\n",
    "dict_frame_q = pd.DataFrame(index=range(len(normalized_facts)), columns=dictionary)"
   ]
  },
  {
   "cell_type": "code",
   "execution_count": 164,
   "metadata": {},
   "outputs": [],
   "source": [
    "for i in range(len(normalized_docs)):\n",
    "    counter = Counter(normalized_docs[i].split())\n",
    "    for key in counter.keys():\n",
    "        dict_frame_d.loc[i, key] = counter[key]\n",
    "        \n",
    "dict_frame_q = pd.DataFrame(index=range(len(normalized_facts)), columns=dictionary)\n",
    "for i in range(len(normalized_facts)):\n",
    "    counter = Counter(normalized_facts[i].split())\n",
    "    for key in counter.keys():\n",
    "        if key in dict_frame_d.columns:\n",
    "            dict_frame_q.loc[i, key] = counter[key]\n"
   ]
  },
  {
   "cell_type": "code",
   "execution_count": 165,
   "metadata": {},
   "outputs": [],
   "source": [
    "docs_vector_space = np.array(dict_frame_d.fillna(0))\n",
    "queries_vector_space = np.array(dict_frame_q.fillna(0))"
   ]
  },
  {
   "cell_type": "code",
   "execution_count": 166,
   "metadata": {},
   "outputs": [
    {
     "name": "stdout",
     "output_type": "stream",
     "text": [
      "docs vector model shape:  (177, 1139)\n",
      "queries vector model shape:  (3, 1139)\n"
     ]
    }
   ],
   "source": [
    "print('docs vector model shape: ', docs_vector_space.shape)\n",
    "print('queries vector model shape: ', queries_vector_space.shape)"
   ]
  },
  {
   "cell_type": "markdown",
   "metadata": {},
   "source": [
    "# TF only"
   ]
  },
  {
   "cell_type": "markdown",
   "metadata": {},
   "source": [
    "## Fact 1\n",
    "Калифорнийский посёлок был независим от США почти 3 месяца пока не пришла пора праздновать День независимости и закупать алкоголь"
   ]
  },
  {
   "cell_type": "code",
   "execution_count": 167,
   "metadata": {},
   "outputs": [
    {
     "name": "stdout",
     "output_type": "stream",
     "text": [
      "К началу революции Д’Абовилю было почти лет он имел чин лагерного маршала и пользовался заслуженной известностью среди французских военных и артиллеристов  ---  0.21535276082326618\n",
      "------------------------\n",
      "В следующем году старатели недовольные налогами которыми обложило их деятельность государство решили от них избавиться путём отделения от США и провозглашением собственной республики  ---  0.1987615979999813\n",
      "------------------------\n",
      "Оно не работало несколько месяцев в году несколько месяцев в году и с по год  ---  0.1987615979999813\n",
      "------------------------\n",
      "Во время Ста дней активно не служил  ---  0.1951800145897066\n",
      "------------------------\n",
      "В телесериале Дни в Долине Смерти о независимости и скорой обратной зависимости Раф энд Рэди рассказывается в двух эпизодах  Rough and Ready    и Birthright     ---  0.18257418583505533\n",
      "------------------------\n"
     ]
    }
   ],
   "source": [
    "range_distances = {}\n",
    "distances = cosine_similarity(docs_vector_space, [queries_vector_space[0]])\n",
    "for i in range(len(distances)):\n",
    "    range_distances[i] = distances[i][0]\n",
    "range_distances = sorted(range_distances.items(), key=operator.itemgetter(1), reverse=True)\n",
    "for i in range(5):\n",
    "    print(docs[range_distances[i][0]], ' --- ', range_distances[i][1])     \n",
    "    print('------------------------')"
   ]
  },
  {
   "cell_type": "markdown",
   "metadata": {},
   "source": [
    "## Fact 2\n",
    "В наполеоновской артиллерии служили три генерала из одной семьи"
   ]
  },
  {
   "cell_type": "code",
   "execution_count": 168,
   "metadata": {},
   "outputs": [
    {
     "name": "stdout",
     "output_type": "stream",
     "text": [
      "Родился в семейном особняке в городе Ла Фер в семье артиллерийского офицера позднее генерал лейтенанта сенатора и Первого генерального инспектора артиллерии Франсуа Д’Абовиля  ---  0.39391929857916763\n",
      "------------------------\n",
      "В этом качестве он участвовал в осаде Йорктауна    и был одним из тех чьи действия привели к капитуляции британцев генерала Корнуоллиса  ---  0.36860489038724287\n",
      "------------------------\n",
      "Первый генеральный инспектор артиллерии  ---  0.35355339059327373\n",
      "------------------------\n",
      "Вильям Стивенс эмигрировал в Миссури в году но вскоре вернулся из за болезни жены чтобы позже всей семьёй перебраться в США  ---  0.34020690871988585\n",
      "------------------------\n",
      "В году Д’Абовиль был произведён в генерал лейтенанты  ---  0.33541019662496846\n",
      "------------------------\n"
     ]
    }
   ],
   "source": [
    "range_distances = {}\n",
    "distances = cosine_similarity(docs_vector_space, [queries_vector_space[1]])\n",
    "for i in range(len(distances)):\n",
    "    range_distances[i] = distances[i][0]\n",
    "range_distances = sorted(range_distances.items(), key=operator.itemgetter(1), reverse=True)\n",
    "for i in range(5):\n",
    "    print(docs[range_distances[i][0]], ' --- ', range_distances[i][1])     \n",
    "    print('------------------------')"
   ]
  },
  {
   "cell_type": "markdown",
   "metadata": {},
   "source": [
    "## Fact 3\n",
    "Совершивший первое кругосветное путешествие на велосипеде ездил по России на коне"
   ]
  },
  {
   "cell_type": "code",
   "execution_count": 169,
   "metadata": {},
   "outputs": [
    {
     "name": "stdout",
     "output_type": "stream",
     "text": [
      "Томас Стивенс  человек совершивший первое кругосветное путешествие на велосипеде проехав  миль и пробыв в пути более двух лет  с апреля по декабрь года   ---  0.48241815132442184\n",
      "------------------------\n",
      "Позже Томас устроился на работу в шахту в Колорадо где ему пришла идея о путешествии на велосипеде по стране  ---  0.440086229423352\n",
      "------------------------\n",
      "На всём протяжении своего кругосветного путешествия Стивенс отправлял свои путевые заметки в Harper’s Magazine которые позже вышли в двухтомнике с страницами Вокруг света на велосипеде  ---  0.37907125275171766\n",
      "------------------------\n",
      "Стивенс провёл в экспедиции месяцев взбирался на Килиманджаро охотился на крупного зверя  ---  0.3223291856101521\n",
      "------------------------\n",
      "Отсюда он на велосипеде отправился в восточный Китай испытывая при этом языковые трудности  ---  0.2508726030021272\n",
      "------------------------\n"
     ]
    }
   ],
   "source": [
    "range_distances = {}\n",
    "distances = cosine_similarity(docs_vector_space, [queries_vector_space[2]])\n",
    "for i in range(len(distances)):\n",
    "    range_distances[i] = distances[i][0]\n",
    "range_distances = sorted(range_distances.items(), key=operator.itemgetter(1), reverse=True)\n",
    "for i in range(5):\n",
    "    print(docs[range_distances[i][0]], ' --- ', range_distances[i][1])     \n",
    "    print('------------------------')"
   ]
  },
  {
   "cell_type": "markdown",
   "metadata": {},
   "source": [
    "# TF * IDF"
   ]
  },
  {
   "cell_type": "code",
   "execution_count": 170,
   "metadata": {},
   "outputs": [],
   "source": [
    "idf_vector = np.zeros(docs_vector_space.shape[1])\n",
    "for i in range(docs_vector_space.shape[1]):\n",
    "    idf_vector[i] = np.log(docs_vector_space.shape[0] / len(np.where(docs_vector_space[:,i] > 0)[0]))\n",
    "docs_vector_space_idf = docs_vector_space * idf_vector"
   ]
  },
  {
   "cell_type": "markdown",
   "metadata": {},
   "source": [
    "## Fact 1\n",
    "Калифорнийский посёлок был независим от США почти 3 месяца пока не пришла пора праздновать День независимости и закупать алкоголь"
   ]
  },
  {
   "cell_type": "code",
   "execution_count": 171,
   "metadata": {},
   "outputs": [
    {
     "name": "stdout",
     "output_type": "stream",
     "text": [
      "Оно не работало несколько месяцев в году несколько месяцев в году и с по год  ---  0.20395584782494466\n",
      "------------------------\n",
      "Почтовая служба США требовала от жителей для упрощения своей работы сменить название их посёлка на Раф или Рэди но те отказались  ---  0.1715937588911348\n",
      "------------------------\n",
      "Во время Ста дней активно не служил  ---  0.16815573579607093\n",
      "------------------------\n",
      "Независимое государство с апреля по июля года  ---  0.1497504868844784\n",
      "------------------------\n",
      "В следующем году старатели недовольные налогами которыми обложило их деятельность государство решили от них избавиться путём отделения от США и провозглашением собственной республики  ---  0.13299096320237047\n",
      "------------------------\n"
     ]
    }
   ],
   "source": [
    "range_distances = {}\n",
    "distances = cosine_similarity(docs_vector_space_idf, [queries_vector_space[0]])\n",
    "for i in range(len(distances)):\n",
    "    range_distances[i] = distances[i][0]\n",
    "range_distances = sorted(range_distances.items(), key=operator.itemgetter(1), reverse=True)\n",
    "for i in range(5):\n",
    "    print(docs[range_distances[i][0]], ' --- ', range_distances[i][1])     \n",
    "    print('------------------------')"
   ]
  },
  {
   "cell_type": "markdown",
   "metadata": {},
   "source": [
    "## Fact 2\n",
    "В наполеоновской артиллерии служили три генерала из одной семьи"
   ]
  },
  {
   "cell_type": "code",
   "execution_count": 172,
   "metadata": {},
   "outputs": [
    {
     "name": "stdout",
     "output_type": "stream",
     "text": [
      "Первый генеральный инспектор артиллерии  ---  0.2679578477327189\n",
      "------------------------\n",
      "Оба его сына были генералами артиллеристами Наполеоновской армии  ---  0.2586844974497135\n",
      "------------------------\n",
      "Семья Д’Абовилей существует до сих пор и является одной из самых многочисленных среди сохранившихся семей французской знати  ---  0.2475701214137544\n",
      "------------------------\n",
      "Во время Ста дней все три представителя семьи Д’Абовиль отказались активно поддерживать Наполеона  ---  0.20539528572653754\n",
      "------------------------\n",
      "Родился в семейном особняке в городе Ла Фер в семье артиллерийского офицера позднее генерал лейтенанта сенатора и Первого генерального инспектора артиллерии Франсуа Д’Абовиля  ---  0.19104139099874404\n",
      "------------------------\n"
     ]
    }
   ],
   "source": [
    "range_distances = {}\n",
    "distances = cosine_similarity(docs_vector_space_idf, [queries_vector_space[1]])\n",
    "for i in range(len(distances)):\n",
    "    range_distances[i] = distances[i][0]\n",
    "range_distances = sorted(range_distances.items(), key=operator.itemgetter(1), reverse=True)\n",
    "for i in range(5):\n",
    "    print(docs[range_distances[i][0]], ' --- ', range_distances[i][1])     \n",
    "    print('------------------------')"
   ]
  },
  {
   "cell_type": "markdown",
   "metadata": {},
   "source": [
    "## Fact 3\n",
    "Совершивший первое кругосветное путешествие на велосипеде ездил по России на коне"
   ]
  },
  {
   "cell_type": "code",
   "execution_count": 173,
   "metadata": {},
   "outputs": [
    {
     "name": "stdout",
     "output_type": "stream",
     "text": [
      "Томас Стивенс  человек совершивший первое кругосветное путешествие на велосипеде проехав  миль и пробыв в пути более двух лет  с апреля по декабрь года   ---  0.45447071637957215\n",
      "------------------------\n",
      "Позже Томас устроился на работу в шахту в Колорадо где ему пришла идея о путешествии на велосипеде по стране  ---  0.27298770597768557\n",
      "------------------------\n",
      "На всём протяжении своего кругосветного путешествия Стивенс отправлял свои путевые заметки в Harper’s Magazine которые позже вышли в двухтомнике с страницами Вокруг света на велосипеде  ---  0.24477349735172058\n",
      "------------------------\n",
      "Однако уже в конце того же года в силу наступления войск России и её союзников генерал привлекался к оборонительным работам на западе Франции  ---  0.1364746618008845\n",
      "------------------------\n",
      "Отсюда он на велосипеде отправился в восточный Китай испытывая при этом языковые трудности  ---  0.12711172169966983\n",
      "------------------------\n"
     ]
    }
   ],
   "source": [
    "range_distances = {}\n",
    "distances = cosine_similarity(docs_vector_space_idf, [queries_vector_space[2]])\n",
    "for i in range(len(distances)):\n",
    "    range_distances[i] = distances[i][0]\n",
    "range_distances = sorted(range_distances.items(), key=operator.itemgetter(1), reverse=True)\n",
    "for i in range(5):\n",
    "    print(docs[range_distances[i][0]], ' --- ', range_distances[i][1])     \n",
    "    print('------------------------')"
   ]
  }
 ],
 "metadata": {
  "kernelspec": {
   "display_name": "Python 3",
   "language": "python",
   "name": "python3"
  }
 },
 "nbformat": 4,
 "nbformat_minor": 2
}
