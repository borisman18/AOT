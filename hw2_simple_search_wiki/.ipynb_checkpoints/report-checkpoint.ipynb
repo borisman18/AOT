{
 "cells": [
  {
   "cell_type": "code",
   "execution_count": 2,
   "metadata": {},
   "outputs": [],
   "source": [
    "import numpy as np\n",
    "from nltk import sent_tokenize\n",
    "import re\n",
    "import pymorphy2\n",
    "import string\n",
    "from sklearn.feature_extraction.text import CountVectorizer\n",
    "from sklearn.metrics.pairwise import cosine_similarity\n",
    "import operator\n",
    "regex = re.compile('[%s]' % re.escape(string.punctuation))"
   ]
  },
  {
   "cell_type": "code",
   "execution_count": 3,
   "metadata": {},
   "outputs": [],
   "source": [
    "morph = pymorphy2.MorphAnalyzer()\n",
    "vectorizer = CountVectorizer()"
   ]
  },
  {
   "cell_type": "code",
   "execution_count": 22,
   "metadata": {},
   "outputs": [],
   "source": [
    "facts = ['Калифорнийский посёлок был независим от США почти 3 месяца пока не пришла пора праздновать День независимости и закупать алкоголь',\n",
    "        'В наполеоновской артиллерии служили три генерала из одной семьи',\n",
    "        'Совершивший первое кругосветное путешествие на велосипеде ездил по России на коне']\n",
    "normalized_facts = []\n",
    "for i in range(len(facts)):\n",
    "    tokens = facts[i].split()\n",
    "    for j in range(len(tokens)):\n",
    "        tokens[j] = morph.parse(tokens[j])[0].normal_form\n",
    "    normalized_facts.append(' '.join(tokens))"
   ]
  },
  {
   "cell_type": "markdown",
   "metadata": {},
   "source": [
    "## Normalized facts "
   ]
  },
  {
   "cell_type": "code",
   "execution_count": 23,
   "metadata": {},
   "outputs": [
    {
     "name": "stdout",
     "output_type": "stream",
     "text": [
      "калифорнийский посёлок быть независимый от сша почти 3 месяц пока не пришлый пора праздновать день независимость и закупать алкоголь \n",
      "\n",
      "в наполеоновский артиллерия служить три генерал из один семья \n",
      "\n",
      "совершить первое кругосветный путешествие на велосипед ездить по россия на кон \n",
      "\n"
     ]
    }
   ],
   "source": [
    "for fact in normalized_facts:\n",
    "    print(fact, '\\n')"
   ]
  },
  {
   "cell_type": "code",
   "execution_count": 5,
   "metadata": {},
   "outputs": [],
   "source": [
    "docs = open('data.txt', encoding='utf8').read()\n",
    "docs = sent_tokenize(docs)\n",
    "normalized_docs = []\n",
    "for i in range(len(docs)):\n",
    "    docs[i] = regex.sub(' ', docs[i])\n",
    "    docs[i] = docs[i][:-1]\n",
    "    tokens = docs[i].split()\n",
    "    for j in range(len(tokens)):\n",
    "        tokens[j] = morph.parse(tokens[j])[0].normal_form\n",
    "    normalized_docs.append(' '.join(tokens))"
   ]
  },
  {
   "cell_type": "code",
   "execution_count": 6,
   "metadata": {},
   "outputs": [],
   "source": [
    "text = ' '.join(normalized_docs)"
   ]
  },
  {
   "cell_type": "code",
   "execution_count": 7,
   "metadata": {},
   "outputs": [],
   "source": [
    "docs_vector_space = vectorizer.fit_transform(normalized_docs).toarray().astype(float)\n",
    "queries_vector_space = vectorizer.transform(normalized_facts).toarray().astype(float)"
   ]
  },
  {
   "cell_type": "code",
   "execution_count": 8,
   "metadata": {},
   "outputs": [
    {
     "name": "stdout",
     "output_type": "stream",
     "text": [
      "docs vector model shape:  (178, 1203)\n",
      "queries vector model shape:  (3, 1203)\n"
     ]
    }
   ],
   "source": [
    "print('docs vector model shape: ', docs_vector_space.shape)\n",
    "print('queries vector model shape: ', queries_vector_space.shape)"
   ]
  },
  {
   "cell_type": "markdown",
   "metadata": {},
   "source": [
    "# TF only"
   ]
  },
  {
   "cell_type": "markdown",
   "metadata": {},
   "source": [
    "## Fact 1\n",
    "Калифорнийский посёлок был независим от США почти 3 месяца пока не пришла пора праздновать День независимости и закупать алкоголь"
   ]
  },
  {
   "cell_type": "code",
   "execution_count": 12,
   "metadata": {},
   "outputs": [
    {
     "name": "stdout",
     "output_type": "stream",
     "text": [
      "Во время Ста дней активно не служил  ---  0.21821789023599242\n",
      "------------------------\n",
      "Однако уже в июне того же года жители новообразованной республики почувствовали дискомфорт  вся страна готовилась к празднованию 4 июля  а им готовиться было не к чему  так как они более не имели никакого отношения к США  ---  0.18333969940564224\n",
      "------------------------\n",
      "Почтовая служба США требовала от жителей  для упрощения своей работы  сменить название их посёлка на Раф или Рэди  но те отказались  ---  0.1749635530559413\n",
      "------------------------\n",
      "Тем не менее  после возвращения Наполеона  он был назначен инспектором артиллерии на севере Франции  но никакой активности не проявлял  ---  0.1749635530559413\n",
      "------------------------\n",
      "В связи с этим 4 июля того же года на общем собрании было решено вернуться в состав США  и это решение было претворено в жизнь немедленно  ---  0.16366341767699433\n",
      "------------------------\n"
     ]
    }
   ],
   "source": [
    "range_distances = {}\n",
    "distances = cosine_similarity(docs_vector_space, [queries_vector_space[0]])\n",
    "for i in range(len(distances)):\n",
    "    range_distances[i] = distances[i][0]\n",
    "range_distances = sorted(range_distances.items(), key=operator.itemgetter(1), reverse=True)\n",
    "for i in range(5):\n",
    "    print(docs[range_distances[i][0]], ' --- ', range_distances[i][1])     \n",
    "    print('------------------------')"
   ]
  },
  {
   "cell_type": "markdown",
   "metadata": {},
   "source": [
    "## Fact 2\n",
    "В наполеоновской артиллерии служили три генерала из одной семьи"
   ]
  },
  {
   "cell_type": "code",
   "execution_count": 13,
   "metadata": {},
   "outputs": [
    {
     "name": "stdout",
     "output_type": "stream",
     "text": [
      "Первый генеральный инспектор артиллерии  ---  0.3779644730092272\n",
      "------------------------\n",
      "Семья Д’Абовилей существует до сих пор и является одной из самых многочисленных  среди сохранившихся семей французской знати  ---  0.3563483225498992\n",
      "------------------------\n",
      "В этом качестве он участвовал в осаде Йорктауна  1781  и был одним из тех  чьи действия привели к капитуляции британцев генерала Корнуоллиса  ---  0.2672612419124244\n",
      "------------------------\n",
      "Оба его сына были генералами артиллеристами Наполеоновской армии  ---  0.26726124191242434\n",
      "------------------------\n",
      "Генерал лейтенант  ---  0.26726124191242434\n",
      "------------------------\n"
     ]
    }
   ],
   "source": [
    "range_distances = {}\n",
    "distances = cosine_similarity(docs_vector_space, [queries_vector_space[1]])\n",
    "for i in range(len(distances)):\n",
    "    range_distances[i] = distances[i][0]\n",
    "range_distances = sorted(range_distances.items(), key=operator.itemgetter(1), reverse=True)\n",
    "for i in range(5):\n",
    "    print(docs[range_distances[i][0]], ' --- ', range_distances[i][1])     \n",
    "    print('------------------------')"
   ]
  },
  {
   "cell_type": "markdown",
   "metadata": {},
   "source": [
    "## Fact 3\n",
    "Совершивший первое кругосветное путешествие на велосипеде ездил по России на коне"
   ]
  },
  {
   "cell_type": "code",
   "execution_count": 14,
   "metadata": {},
   "outputs": [
    {
     "name": "stdout",
     "output_type": "stream",
     "text": [
      "Позже Томас устроился на работу в шахту в Колорадо  где ему пришла идея о путешествии на велосипеде по стране  ---  0.4974683381630911\n",
      "------------------------\n",
      "Томас Стивенс  — человек  совершивший первое кругосветное путешествие на велосипеде  проехав 13 500 миль и пробыв в пути более двух лет  с апреля 1884 по декабрь 1886 года   ---  0.4730499167912661\n",
      "------------------------\n",
      "На всём протяжении своего кругосветного путешествия Стивенс отправлял свои путевые заметки в Harper’s Magazine»  которые позже вышли в двухтомнике с 1000 страницами Вокруг света на велосипеде»  ---  0.3481553119113957\n",
      "------------------------\n",
      "Стивенс провёл в экспедиции 6 месяцев  взбирался на Килиманджаро  охотился на крупного зверя  ---  0.3344968040028363\n",
      "------------------------\n",
      "Отсюда он на велосипеде отправился в восточный Китай  испытывая при этом языковые трудности  ---  0.2611164839335468\n",
      "------------------------\n"
     ]
    }
   ],
   "source": [
    "range_distances = {}\n",
    "distances = cosine_similarity(docs_vector_space, [queries_vector_space[2]])\n",
    "for i in range(len(distances)):\n",
    "    range_distances[i] = distances[i][0]\n",
    "range_distances = sorted(range_distances.items(), key=operator.itemgetter(1), reverse=True)\n",
    "for i in range(5):\n",
    "    print(docs[range_distances[i][0]], ' --- ', range_distances[i][1])     \n",
    "    print('------------------------')"
   ]
  },
  {
   "cell_type": "markdown",
   "metadata": {},
   "source": [
    "# TF * IDF"
   ]
  },
  {
   "cell_type": "code",
   "execution_count": 16,
   "metadata": {},
   "outputs": [],
   "source": [
    "idf_vector = np.zeros(docs_vector_space.shape[1])\n",
    "for i in range(docs_vector_space.shape[1]):\n",
    "    idf_vector[i] = np.log(docs_vector_space.shape[0] / len(np.where(docs_vector_space[:,i] > 0)[0]))\n",
    "docs_vector_space_idf = docs_vector_space * idf_vector"
   ]
  },
  {
   "cell_type": "markdown",
   "metadata": {},
   "source": [
    "## Fact 1\n",
    "Калифорнийский посёлок был независим от США почти 3 месяца пока не пришла пора праздновать День независимости и закупать алкоголь"
   ]
  },
  {
   "cell_type": "code",
   "execution_count": 17,
   "metadata": {},
   "outputs": [
    {
     "name": "stdout",
     "output_type": "stream",
     "text": [
      "Почтовая служба США требовала от жителей  для упрощения своей работы  сменить название их посёлка на Раф или Рэди  но те отказались  ---  0.17762215553461508\n",
      "------------------------\n",
      "Во время Ста дней активно не служил  ---  0.17435796326696124\n",
      "------------------------\n",
      "Оно не работало несколько месяцев в 1855 году  несколько месяцев в 1913 году и с 1942 по 1948 год  ---  0.16114880576196394\n",
      "------------------------\n",
      "Независимое государство с 7 апреля по 4 июля 1850 года  ---  0.14382744641552436\n",
      "------------------------\n",
      "В следующем году старатели  недовольные налогами  которыми обложило их деятельность государство  решили от них избавиться путём отделения от США и провозглашением собственной республики  ---  0.12450825502169609\n",
      "------------------------\n"
     ]
    }
   ],
   "source": [
    "range_distances = {}\n",
    "distances = cosine_similarity(docs_vector_space_idf, [queries_vector_space[0]])\n",
    "for i in range(len(distances)):\n",
    "    range_distances[i] = distances[i][0]\n",
    "range_distances = sorted(range_distances.items(), key=operator.itemgetter(1), reverse=True)\n",
    "for i in range(5):\n",
    "    print(docs[range_distances[i][0]], ' --- ', range_distances[i][1])     \n",
    "    print('------------------------')"
   ]
  },
  {
   "cell_type": "markdown",
   "metadata": {},
   "source": [
    "## Fact 2\n",
    "В наполеоновской артиллерии служили три генерала из одной семьи"
   ]
  },
  {
   "cell_type": "code",
   "execution_count": 18,
   "metadata": {},
   "outputs": [
    {
     "name": "stdout",
     "output_type": "stream",
     "text": [
      "Первый генеральный инспектор артиллерии  ---  0.2866288371138861\n",
      "------------------------\n",
      "Оба его сына были генералами артиллеристами Наполеоновской армии  ---  0.2765764736077939\n",
      "------------------------\n",
      "Семья Д’Абовилей существует до сих пор и является одной из самых многочисленных  среди сохранившихся семей французской знати  ---  0.26538102725365814\n",
      "------------------------\n",
      "Во время Ста дней все три представителя семьи Д’Абовиль отказались активно поддерживать Наполеона  ---  0.20689719489392822\n",
      "------------------------\n",
      "Огюстен Габриэль Д’Абовиль — французский военачальник эпохи Наполеоновских войн  бригадный генерал  военный артиллерист  ---  0.19448573464913538\n",
      "------------------------\n"
     ]
    }
   ],
   "source": [
    "range_distances = {}\n",
    "distances = cosine_similarity(docs_vector_space_idf, [queries_vector_space[1]])\n",
    "for i in range(len(distances)):\n",
    "    range_distances[i] = distances[i][0]\n",
    "range_distances = sorted(range_distances.items(), key=operator.itemgetter(1), reverse=True)\n",
    "for i in range(5):\n",
    "    print(docs[range_distances[i][0]], ' --- ', range_distances[i][1])     \n",
    "    print('------------------------')"
   ]
  },
  {
   "cell_type": "markdown",
   "metadata": {},
   "source": [
    "## Fact 3\n",
    "Совершивший первое кругосветное путешествие на велосипеде ездил по России на коне"
   ]
  },
  {
   "cell_type": "code",
   "execution_count": 19,
   "metadata": {},
   "outputs": [
    {
     "name": "stdout",
     "output_type": "stream",
     "text": [
      "Томас Стивенс  — человек  совершивший первое кругосветное путешествие на велосипеде  проехав 13 500 миль и пробыв в пути более двух лет  с апреля 1884 по декабрь 1886 года   ---  0.4086320453188945\n",
      "------------------------\n",
      "Позже Томас устроился на работу в шахту в Колорадо  где ему пришла идея о путешествии на велосипеде по стране  ---  0.2811222209208736\n",
      "------------------------\n",
      "На всём протяжении своего кругосветного путешествия Стивенс отправлял свои путевые заметки в Harper’s Magazine»  которые позже вышли в двухтомнике с 1000 страницами Вокруг света на велосипеде»  ---  0.18811034650559255\n",
      "------------------------\n",
      "Однако уже в конце того же года  в силу наступления войск России и её союзников  генерал привлекался к оборонительным работам на западе Франции  ---  0.13859390025099994\n",
      "------------------------\n",
      "Отсюда он на велосипеде отправился в восточный Китай  испытывая при этом языковые трудности  ---  0.13011595723446956\n",
      "------------------------\n"
     ]
    }
   ],
   "source": [
    "range_distances = {}\n",
    "distances = cosine_similarity(docs_vector_space_idf, [queries_vector_space[2]])\n",
    "for i in range(len(distances)):\n",
    "    range_distances[i] = distances[i][0]\n",
    "range_distances = sorted(range_distances.items(), key=operator.itemgetter(1), reverse=True)\n",
    "for i in range(5):\n",
    "    print(docs[range_distances[i][0]], ' --- ', range_distances[i][1])     \n",
    "    print('------------------------')"
   ]
  }
 ],
 "metadata": {
  "kernelspec": {
   "display_name": "Python 3",
   "language": "python",
   "name": "python3"
  },
  "language_info": {
   "codemirror_mode": {
    "name": "ipython",
    "version": 3
   },
   "file_extension": ".py",
   "mimetype": "text/x-python",
   "name": "python",
   "nbconvert_exporter": "python",
   "pygments_lexer": "ipython3",
   "version": "3.6.8"
  }
 },
 "nbformat": 4,
 "nbformat_minor": 2
}
