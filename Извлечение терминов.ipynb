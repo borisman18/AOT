{
 "cells": [
  {
   "cell_type": "code",
   "execution_count": 1,
   "metadata": {
    "collapsed": true
   },
   "outputs": [],
   "source": [
    "import pymorphy2\n",
    "import pymorphy2_dicts_ru\n",
    "import re\n",
    "from collections import Counter\n",
    "from tqdm import tqdm_notebook\n",
    "import matplotlib.pyplot as plt\n",
    "import nltk\n",
    "import operator\n",
    "import csv\n",
    "import pandas as pd\n",
    "import numpy as np"
   ]
  },
  {
   "cell_type": "code",
   "execution_count": 59,
   "metadata": {},
   "outputs": [
    {
     "data": {
      "application/vnd.jupyter.widget-view+json": {
       "model_id": "e646d123d89d4ca2855dea347f5b1f6a",
       "version_major": 2,
       "version_minor": 0
      },
      "text/plain": [
       "A Jupyter Widget"
      ]
     },
     "metadata": {},
     "output_type": "display_data"
    }
   ],
   "source": [
    "morph = pymorphy2.MorphAnalyzer()\n",
    "count = {}\n",
    "count_words = {}\n",
    "digit_pattern = re.compile(r'\\w*\\d+\\w*')\n",
    "pre_word = 'qwe'\n",
    "with open('data.txt','r',encoding='utf-8') as f:\n",
    "    for line in tqdm_notebook(f):\n",
    "        for word in line.split():\n",
    "            word = morph.parse(re.sub(r'[^\\w\\s]','',word).lower())[0].normal_form\n",
    "\n",
    "            if re.match(digit_pattern, word) is not None or word == '':\n",
    "                continue\n",
    "            if nltk.pos_tag(nltk.word_tokenize(pre_word), lang='rus')[0][1] == 'A=m' and nltk.pos_tag(nltk.word_tokenize(word), lang='rus')[0][1] == 'S':\n",
    "                if (pre_word, word) not in count:\n",
    "                    count[(pre_word, word)] = 1\n",
    "                else:\n",
    "                    count[(pre_word, word)] += 1\n",
    "                if pre_word not in count_words:\n",
    "                    count_words[pre_word] = 1\n",
    "                else:\n",
    "                    count_words[pre_word] += 1\n",
    "                if word not in count_words:\n",
    "                    count_words[word] = 1\n",
    "                else:\n",
    "                    count_words[word] += 1\n",
    "            pre_word = word\n",
    "                \n",
    "\n"
   ]
  },
  {
   "cell_type": "markdown",
   "metadata": {},
   "source": [
    "Упорядочим по частотности и выведем топ-20"
   ]
  },
  {
   "cell_type": "code",
   "execution_count": 60,
   "metadata": {},
   "outputs": [
    {
     "data": {
      "text/plain": [
       "[(('российский', 'федерация'), 469),\n",
       " (('юридический', 'лицо'), 298),\n",
       " (('гражданский', 'право'), 271),\n",
       " (('арбитражный', 'суд'), 257),\n",
       " (('гражданский', 'кодекс'), 206),\n",
       " (('гражданский', 'законодательство'), 159),\n",
       " (('общий', 'правило'), 152),\n",
       " (('договорный', 'обязательство'), 134),\n",
       " (('акционерный', 'общество'), 121),\n",
       " (('денежный', 'средство'), 108),\n",
       " (('предпринимательский', 'деятельность'), 99),\n",
       " (('отдельный', 'вид'), 96),\n",
       " (('федеральный', 'закон'), 96),\n",
       " (('существенный', 'условие'), 94),\n",
       " (('банковский', 'гарантия'), 92),\n",
       " (('денежный', 'обязательство'), 92),\n",
       " (('предварительный', 'договор'), 92),\n",
       " (('основный', 'обязательство'), 89),\n",
       " (('имущественный', 'оборот'), 86),\n",
       " (('общий', 'положение'), 81)]"
      ]
     },
     "execution_count": 60,
     "metadata": {},
     "output_type": "execute_result"
    }
   ],
   "source": [
    "sorted(count.items(), key=operator.itemgetter(1), reverse=True)[:20]"
   ]
  },
  {
   "cell_type": "markdown",
   "metadata": {},
   "source": [
    "Взаимная информация"
   ]
  },
  {
   "cell_type": "code",
   "execution_count": 65,
   "metadata": {
    "collapsed": true
   },
   "outputs": [],
   "source": [
    "MI_count = {}\n",
    "N = sum(count_words.values())\n",
    "for pair in count.keys():\n",
    "    MI_count[pair] = np.log2(count[pair] * N / (count_words[pair[0]] * count_words[pair[1]]))"
   ]
  },
  {
   "cell_type": "code",
   "execution_count": 67,
   "metadata": {},
   "outputs": [
    {
     "data": {
      "text/plain": [
       "[(('светлый', 'память'), 15.143861481867859),\n",
       " (('витрянский', 'василий'), 15.143861481867859),\n",
       " (('невероятный', 'давление'), 15.143861481867859),\n",
       " (('оживлённый', 'дискуссия'), 15.143861481867859),\n",
       " (('маковский', 'ге'), 15.143861481867859),\n",
       " (('отвратительный', 'пережиток'), 15.143861481867859),\n",
       " (('постепенный', 'занятие'), 15.143861481867859),\n",
       " (('толковый', 'словарь'), 15.143861481867859),\n",
       " (('всесторонний', 'ознакомление'), 15.143861481867859),\n",
       " (('кустарниковый', 'растительность'), 15.143861481867859),\n",
       " (('резкий', 'сужение'), 15.143861481867859),\n",
       " (('октябрьский', 'революция'), 15.143861481867859),\n",
       " (('покровский', 'опасение'), 15.143861481867859),\n",
       " (('зелёный', 'огонёк'), 15.143861481867859),\n",
       " (('прохладительный', 'напиток'), 15.143861481867859),\n",
       " (('мобилизационный', 'мощность'), 15.143861481867859),\n",
       " (('евгений', 'годэмэ'), 15.143861481867859),\n",
       " (('многодетный', 'семья'), 15.143861481867859),\n",
       " (('всероссийский', 'телерадиокомпания'), 15.143861481867859),\n",
       " (('магистральный', 'трубопровод'), 15.143861481867859)]"
      ]
     },
     "execution_count": 67,
     "metadata": {},
     "output_type": "execute_result"
    }
   ],
   "source": [
    "sorted(MI_count.items(), key=operator.itemgetter(1), reverse=True)[:20]"
   ]
  }
 ],
 "metadata": {
  "kernelspec": {
   "display_name": "Python 3",
   "language": "python",
   "name": "python3"
  },
  "language_info": {
   "codemirror_mode": {
    "name": "ipython",
    "version": 3
   },
   "file_extension": ".py",
   "mimetype": "text/x-python",
   "name": "python",
   "nbconvert_exporter": "python",
   "pygments_lexer": "ipython3",
   "version": "3.6.2"
  }
 },
 "nbformat": 4,
 "nbformat_minor": 2
}
